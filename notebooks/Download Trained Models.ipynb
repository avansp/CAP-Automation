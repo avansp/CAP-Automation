{
 "cells": [
  {
   "cell_type": "markdown",
   "metadata": {},
   "source": [
    "### Download Models\n",
    "\n",
    "VGG19, ResNet50, and Xception models have been trained for view classification and can be downloaded using 'gdown' to your local directory. If necessary, use pip to install gdown. "
   ]
  },
  {
   "cell_type": "code",
   "execution_count": 5,
   "metadata": {},
   "outputs": [
    {
     "name": "stdout",
     "output_type": "stream",
     "text": [
      "Collecting gdown\n",
      "  Downloading https://files.pythonhosted.org/packages/52/b9/d426f164f35bb50d512a77d6a7c5eb70b2bea3459dc10f73f130ba732810/gdown-3.13.0.tar.gz\n",
      "  Installing build dependencies: started\n",
      "  Installing build dependencies: finished with status 'done'\n",
      "  Getting requirements to build wheel: started\n",
      "  Getting requirements to build wheel: finished with status 'done'\n",
      "    Preparing wheel metadata: started\n",
      "    Preparing wheel metadata: finished with status 'done'\n",
      "Requirement already satisfied: requests[socks]>=2.12.0 in c:\\programdata\\anaconda2\\envs\\ucair\\lib\\site-packages (from gdown) (2.23.0)\n",
      "Collecting filelock (from gdown)\n",
      "  Downloading https://files.pythonhosted.org/packages/93/83/71a2ee6158bb9f39a90c0dea1637f81d5eef866e188e1971a1b1ab01a35a/filelock-3.0.12-py3-none-any.whl\n",
      "Requirement already satisfied: tqdm in c:\\programdata\\anaconda2\\envs\\ucair\\lib\\site-packages (from gdown) (4.62.1)\n",
      "Requirement already satisfied: six in c:\\programdata\\anaconda2\\envs\\ucair\\lib\\site-packages (from gdown) (1.15.0)\n",
      "Requirement already satisfied: certifi>=2017.4.17 in c:\\programdata\\anaconda2\\envs\\ucair\\lib\\site-packages (from requests[socks]>=2.12.0->gdown) (2020.6.20)\n",
      "Requirement already satisfied: idna<3,>=2.5 in c:\\programdata\\anaconda2\\envs\\ucair\\lib\\site-packages (from requests[socks]>=2.12.0->gdown) (2.9)\n",
      "Requirement already satisfied: chardet<4,>=3.0.2 in c:\\programdata\\anaconda2\\envs\\ucair\\lib\\site-packages (from requests[socks]>=2.12.0->gdown) (3.0.4)\n",
      "Requirement already satisfied: urllib3!=1.25.0,!=1.25.1,<1.26,>=1.21.1 in c:\\programdata\\anaconda2\\envs\\ucair\\lib\\site-packages (from requests[socks]>=2.12.0->gdown) (1.25.8)\n",
      "Collecting PySocks!=1.5.7,>=1.5.6; extra == \"socks\" (from requests[socks]>=2.12.0->gdown)\n",
      "  Downloading https://files.pythonhosted.org/packages/8d/59/b4572118e098ac8e46e399a1dd0f2d85403ce8bbaad9ec79373ed6badaf9/PySocks-1.7.1-py3-none-any.whl\n",
      "Requirement already satisfied: colorama; platform_system == \"Windows\" in c:\\programdata\\anaconda2\\envs\\ucair\\lib\\site-packages (from tqdm->gdown) (0.4.1)\n",
      "Building wheels for collected packages: gdown\n",
      "  Building wheel for gdown (PEP 517): started\n",
      "  Building wheel for gdown (PEP 517): finished with status 'done'\n",
      "  Stored in directory: C:\\Users\\brend\\AppData\\Local\\pip\\Cache\\wheels\\ba\\fa\\c5\\12813d7496f34652c43a471e11a780e769889d06e34735c32e\n",
      "Successfully built gdown\n",
      "Installing collected packages: filelock, gdown, PySocks\n",
      "Successfully installed PySocks-1.7.1 filelock-3.0.12 gdown-3.13.0\n"
     ]
    }
   ],
   "source": [
    "!pip install gdown"
   ]
  },
  {
   "cell_type": "code",
   "execution_count": null,
   "metadata": {},
   "outputs": [
    {
     "name": "stderr",
     "output_type": "stream",
     "text": [
      "Downloading...\n",
      "From: https://drive.google.com/u/0/uc?id=1PNTthLKk4qtpS3qedQPsJrQKev5x875n&export=download\n",
      "To: E:\\CAP\\CAP-Automation\\models\\ResNet50\\resnet50.h5py\n",
      "190MB [03:08, 1.01MB/s] \n",
      "Downloading...\n",
      "From: https://drive.google.com/u/0/uc?id=1Dmxs6Xpx9yBJA5R4W_tOvY4l0Y2YiEAN&export=download\n",
      "To: E:\\CAP\\CAP-Automation\\models\\VGG19\\vgg19.h5py\n",
      "28.3MB [00:31, 913kB/s] "
     ]
    }
   ],
   "source": [
    "import gdown\n",
    "import os\n",
    "\n",
    "# make models directory if necessary\n",
    "if not os.path.isdir('../models/'):\n",
    "        os.mkdir('../models/')\n",
    "\n",
    "# download ResNet50\n",
    "url = 'https://drive.google.com/u/0/uc?id=1PNTthLKk4qtpS3qedQPsJrQKev5x875n&export=download'\n",
    "output = '../models/ResNet50/'\n",
    "\n",
    "if not os.path.isdir(output):\n",
    "    os.mkdir(output)\n",
    "    \n",
    "gdown.download(url, os.path.join(output, 'resnet50.h5py'), quiet=False)\n",
    "\n",
    "# download VGG19\n",
    "url = 'https://drive.google.com/u/0/uc?id=1Dmxs6Xpx9yBJA5R4W_tOvY4l0Y2YiEAN&export=download'\n",
    "output = '../models/VGG19/'\n",
    "\n",
    "if not os.path.isdir(output):\n",
    "    os.mkdir(output)\n",
    "    \n",
    "gdown.download(url, os.path.join(output, 'vgg19.h5py'), quiet=False)\n",
    "\n",
    "# download Xception\n",
    "url = 'https://drive.google.com/u/0/uc?id=19H8faj-jtvNmlhuIxQEOFGdFez4ku8xv&export=download'\n",
    "output = '../models/Xception/'\n",
    "\n",
    "if not os.path.isdir(output):\n",
    "    os.mkdir(output)\n",
    "    \n",
    "gdown.download(url, os.path.join(output, 'xception.h5py'), quiet=False)"
   ]
  },
  {
   "cell_type": "code",
   "execution_count": null,
   "metadata": {},
   "outputs": [],
   "source": []
  }
 ],
 "metadata": {
  "kernelspec": {
   "display_name": "Python [conda env:ucair]",
   "language": "python",
   "name": "conda-env-ucair-py"
  },
  "language_info": {
   "codemirror_mode": {
    "name": "ipython",
    "version": 3
   },
   "file_extension": ".py",
   "mimetype": "text/x-python",
   "name": "python",
   "nbconvert_exporter": "python",
   "pygments_lexer": "ipython3",
   "version": "3.6.8"
  }
 },
 "nbformat": 4,
 "nbformat_minor": 2
}
